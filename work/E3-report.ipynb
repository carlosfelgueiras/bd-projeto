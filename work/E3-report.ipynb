{
 "cells": [
  {
   "cell_type": "markdown",
   "id": "19b43aee-c23f-4ef7-8547-9c309b2dbecb",
   "metadata": {},
   "source": [
    "# Projeto de Bases de Dados - Parte 3\n",
    "\n",
    "### Docente Responsável\n",
    "\n",
    "Prof. Flávio Martins\n",
    "\n",
    "### Grupo 21\n",
    "<dl>\n",
    "    <dt>HH horas (33%)</dt>\n",
    "    <dd>ist1100293 Carlos Felgueiras</dd>\n",
    "    <dt>HH horas (33%)</dt>\n",
    "    <dd>ist1102556 Daniel Carvalho</dd>\n",
    "    <dt>HH horas (34%)</dt>\n",
    "    <dd>ist1102597 Duarte Sousa</dd>\n",
    "<dl>"
   ]
  },
  {
   "cell_type": "code",
   "execution_count": null,
   "id": "a6545a02-adea-4c57-b704-cfa1f6253e4b",
   "metadata": {
    "tags": []
   },
   "outputs": [],
   "source": [
    "%load_ext sql\n",
    "%sql postgresql://db:db@postgres/db\n",
    "%config SqlMagic.displaylimit = None"
   ]
  },
  {
   "cell_type": "markdown",
   "id": "1c5deb6e-396e-401f-9b09-af4cd09491a9",
   "metadata": {
    "tags": []
   },
   "source": [
    "# Empresa de comércio online"
   ]
  },
  {
   "cell_type": "markdown",
   "id": "76eab1e8-8d6a-41e3-b242-553a7f14ba84",
   "metadata": {
    "tags": []
   },
   "source": [
    "## 0. Carregamento da Base de Dados"
   ]
  },
  {
   "cell_type": "markdown",
   "id": "e047df4e-b18b-4c70-8f7b-378b4201ee01",
   "metadata": {},
   "source": [
    "Carregue o esquema de Base de Dados apresentado no Anexo A."
   ]
  },
  {
   "cell_type": "code",
   "execution_count": null,
   "id": "c718077c-5193-47a0-bb76-8f1f43a713be",
   "metadata": {
    "tags": []
   },
   "outputs": [],
   "source": [
    "%%sql\n",
    "\n",
    "DROP TABLE IF EXISTS customer CASCADE;\n",
    "DROP TABLE IF EXISTS orders CASCADE;\n",
    "DROP TABLE IF EXISTS pay CASCADE;\n",
    "DROP TABLE IF EXISTS employee CASCADE;\n",
    "DROP TABLE IF EXISTS process CASCADE;\n",
    "DROP TABLE IF EXISTS department CASCADE;\n",
    "DROP TABLE IF EXISTS workplace CASCADE;\n",
    "DROP TABLE IF EXISTS works CASCADE;\n",
    "DROP TABLE IF EXISTS office CASCADE;\n",
    "DROP TABLE IF EXISTS warehouse CASCADE;\n",
    "DROP TABLE IF EXISTS product CASCADE;\n",
    "DROP TABLE IF EXISTS contains CASCADE;\n",
    "DROP TABLE IF EXISTS supplier CASCADE;\n",
    "DROP TABLE IF EXISTS delivery CASCADE;\n",
    "\n",
    "CREATE TABLE customer(\n",
    "cust_no INTEGER PRIMARY KEY,\n",
    "name VARCHAR(80) NOT NULL,\n",
    "email VARCHAR(254) UNIQUE NOT NULL,\n",
    "phone VARCHAR(15),\n",
    "address VARCHAR(255)\n",
    ");\n",
    "\n",
    "CREATE TABLE orders(\n",
    "order_no INTEGER PRIMARY KEY,\n",
    "cust_no INTEGER NOT NULL REFERENCES customer,\n",
    "date DATE NOT NULL\n",
    "--order_no must exist in contains\n",
    ");\n",
    "\n",
    "CREATE TABLE pay(\n",
    "order_no INTEGER PRIMARY KEY REFERENCES orders,\n",
    "cust_no INTEGER NOT NULL REFERENCES customer\n",
    ");\n",
    "\n",
    "CREATE TABLE employee(\n",
    "ssn VARCHAR(20) PRIMARY KEY,\n",
    "TIN VARCHAR(20) UNIQUE NOT NULL,\n",
    "bdate DATE,\n",
    "name VARCHAR NOT NULL\n",
    "--age must be >=18\n",
    ");\n",
    "\n",
    "CREATE TABLE process(\n",
    "ssn VARCHAR(20) REFERENCES employee,\n",
    "order_no INTEGER REFERENCES orders,\n",
    "PRIMARY KEY (ssn, order_no)\n",
    ");\n",
    "\n",
    "CREATE TABLE department(\n",
    "name VARCHAR PRIMARY KEY\n",
    ");\n",
    "\n",
    "CREATE TABLE workplace(\n",
    "address VARCHAR PRIMARY KEY,\n",
    "lat NUMERIC(8, 6) NOT NULL,\n",
    "long NUMERIC(9, 6) NOT NULL,\n",
    "UNIQUE(lat, long)\n",
    "--address must be in warehouse or office but not both\n",
    ");\n",
    "\n",
    "CREATE TABLE office(\n",
    "address VARCHAR(255) PRIMARY KEY REFERENCES workplace\n",
    ");\n",
    "\n",
    "CREATE TABLE warehouse(\n",
    "address VARCHAR(255) PRIMARY KEY REFERENCES workplace\n",
    ");\n",
    "\n",
    "CREATE TABLE works(\n",
    "ssn VARCHAR(20) REFERENCES employee,\n",
    "name VARCHAR(200) REFERENCES department,\n",
    "address VARCHAR(255) REFERENCES workplace,\n",
    "PRIMARY KEY (ssn, name, address)\n",
    ");\n",
    "\n",
    "CREATE TABLE product(\n",
    "SKU VARCHAR(25) PRIMARY KEY,\n",
    "name VARCHAR(200) NOT NULL,\n",
    "description VARCHAR,\n",
    "price NUMERIC(10, 2) NOT NULL,\n",
    "ean NUMERIC(13) UNIQUE\n",
    ");\n",
    "\n",
    "CREATE TABLE contains(\n",
    "order_no INTEGER REFERENCES orders,\n",
    "SKU VARCHAR(25) REFERENCES product,\n",
    "qty INTEGER,\n",
    "PRIMARY KEY (order_no, SKU)\n",
    ");\n",
    "\n",
    "CREATE TABLE supplier(\n",
    "TIN VARCHAR(20) PRIMARY KEY,\n",
    "name VARCHAR(200),\n",
    "address VARCHAR(255),\n",
    "SKU VARCHAR(25) REFERENCES product,\n",
    "date DATE\n",
    ");\n",
    "\n",
    "CREATE TABLE delivery(\n",
    "address VARCHAR(255) REFERENCES warehouse,\n",
    "TIN VARCHAR(20) REFERENCES supplier,\n",
    "PRIMARY KEY (address, TIN)\n",
    ");"
   ]
  },
  {
   "cell_type": "markdown",
   "id": "25fcb3f3-2ec6-4264-bd74-d07bfd56fa76",
   "metadata": {},
   "source": [
    "Crie as instruções para o seu preenchimento de forma consistente, garantindo que todas as consultas SQL e OLAP, apresentadas mais adiante, produzam um resultado não vazio. "
   ]
  },
  {
   "cell_type": "code",
   "execution_count": null,
   "id": "e33d841c-c21e-4a9a-88b4-00b45b039261",
   "metadata": {
    "tags": []
   },
   "outputs": [],
   "source": [
    "%%sql\n",
    "-- populate.sql\n",
    "\n",
    "INSERT INTO customer VALUES (1, 'Pedro', 'pedrofrigolet@gmail.com', '+351 912345678', 'Rua da Boa Nova nº39, 4050-101 Ermesinde');\n",
    "INSERT INTO customer VALUES (2, 'Miguel', 'migueltavares@gmail.com', '+351 942069697', 'Travessa da Esperança nº14 2ºD, 4410-490 Rebordosa');\n",
    "INSERT INTO customer VALUES (3, 'José', 'zedopipo@gmail.com', '+351 918008576', 'Rua dos Lusíadas nº14, 2955-108 Pinhal Novo');\n",
    "\n",
    "INSERT INTO employee VALUES (10293847562, 201928376, '2000-06-15', 'João');\n",
    "INSERT INTO employee VALUES (91827364503, 282736579, '2001-03-15', 'Carlos');\n",
    "INSERT INTO employee VALUES (10243347562, 200923356, '2002-04-15', 'Marcos');\n",
    "\n",
    "INSERT INTO department VALUES('Recursos Humanos');\n",
    "INSERT INTO department VALUES('Logística');\n",
    "INSERT INTO department VALUES('Comercial');\n",
    "\n",
    "INSERT INTO workplace VALUES('Rua Cid Tomar 49, 2830-573 Palhais', 38.623246, -9.047482);\n",
    "INSERT INTO workplace VALUES('Avenida Lago 23, 2765-099 Cascais', 38.705305, -9.377783);\n",
    "INSERT INTO workplace VALUES('Rua Pé Mouro Armz 108, 2735-542 Sintra', 38.770582, -9.287598);\n",
    "INSERT INTO workplace VALUES('Av. Ten-Cel. Melo Antunes, 4820-398 Fafe', 41.454987, -8.178397);\n",
    "\n",
    "INSERT INTO office VALUES('Rua Cid Tomar 49, 2830-573 Palhais');\n",
    "INSERT INTO office VALUES('Av. Ten-Cel. Melo Antunes, 4820-398 Fafe');\n",
    "\n",
    "INSERT INTO warehouse VALUES('Avenida Lago 23, 2765-099 Cascais');\n",
    "INSERT INTO warehouse VALUES('Rua Pé Mouro Armz 108, 2735-542 Sintra');\n",
    "\n",
    "INSERT INTO orders VALUES(1, 2, '2022-11-30');\n",
    "INSERT INTO orders VALUES(2, 3, '2022-12-07');\n",
    "INSERT INTO orders VALUES(3, 1, '2022-12-24');\n",
    "INSERT INTO orders VALUES(4, 3, '2023-01-05');\n",
    "INSERT INTO orders VALUES(5, 2, '2023-01-17');\n",
    "INSERT INTO orders VALUES(6, 1, '2023-01-21');\n",
    "INSERT INTO orders VALUES(7, 1, '2023-02-12');\n",
    "INSERT INTO orders VALUES(8, 2, '2023-03-19');\n",
    "INSERT INTO orders VALUES(9, 3, '2023-04-17');\n",
    "\n",
    "INSERT INTO product VALUES('TS123456', 'Água Molhadinha, 50cl', 'Água mineral natural da Serra da Estrela. Com pH de 7.0, perfeita para a saude. Produto Nacional', 0.50);\n",
    "INSERT INTO product VALUES('KS944RUR', 'Carregador Apple iPhone', 'Carregador lightning de 40W com fio de 40cm.', 90, 789870254652);\n",
    "INSERT INTO product VALUES('KS93528TUT', 'Bolachas Oreo', 'Bolachas de chocolate com recheio de creme.', 1.50);\n",
    "INSERT INTO product VALUES('KA17120203', 'Red Bull, 25cl', 'Bebida energética com cafeína, baixa em açúcar.', 2.50);\n",
    "INSERT INTO product VALUES('HM21KMPW', 'Portátil Gaming ASUS Rog Strix', 'Intel Core i7, 32Gb Ram, RTX 4080, SSD NVMe 1Tb', 2389.99);\n",
    "INSERT INTO product VALUES('X00299X9JF', 'Fortnite 1500 VBUCKS Gift Card', 'Código de acesso a 1500 VBUCKS. Compatível com Windows, Mac, iOS, Android, PlayStation, XBOX, Nintendo Switch.', 0.50);\n",
    "\n",
    "INSERT INTO supplier VALUES(122365939, 'Av. Santo Condestável, 1950-011 Lisboa', 'Molhadinha, Lda.', 'TS123456', '2024-01-01');\n",
    "INSERT INTO supplier VALUES(135238432, 'Campo Pequeno, 1000-082 Lisboa', 'Apple', 'KS944RUR', '2024-02-01');\n",
    "INSERT INTO supplier VALUES(159438584, 'Praça Duque de Saldanha 1, 1050-094 Lisboa', 'Oreo', 'KS93528TUT', '2023-12-31');\n",
    "INSERT INTO supplier VALUES(154294955, 'Av. da Liberdade 240 2º Esq, 1250-148 Lisboa', 'Red Bull', 'KA17120203', '2024-01-01');\n",
    "INSERT INTO supplier VALUES(165439089, 'Praça Martim Moniz 39, 1150-052 Lisboa', 'ASUS', 'HM21KMPW', '2025-01-01');\n",
    "INSERT INTO supplier VALUES(194355853, 'Rua do Grilo 84, 1950-144 Lisboa', 'Epic Games', 'X00299X9JF', '2024-12-31');\n",
    "\n",
    "INSERT INTO works VALUES(10293847562, 'Logística', 'Rua Cid Tomar 49, 2830-573 Palhais');\n",
    "INSERT INTO works VALUES(10293847562, 'Recursos Humanos', 'Avenida Lago 23, 2765-099 Cascais');\n",
    "INSERT INTO works VALUES(91827364503, 'Comercial', 'Rua Pé Mouro Armz 108, 2735-542 Sintra');\n",
    "INSERT INTO works VALUES(10243347562, 'Logística', 'Av. Ten-Cel. Melo Antunes, 4820-398 Fafe');\n",
    "INSERT INTO works VALUES(10243347562, 'Comercial', 'Rua Cid Tomar 49, 2830-573 Palhais');\n",
    "\n",
    "INSERT INTO process VALUES(91827364503, 1);\n",
    "INSERT INTO process VALUES(91827364503, 2);\n",
    "INSERT INTO process VALUES(91827364503, 3);\n",
    "INSERT INTO process VALUES(91827364503, 4);\n",
    "INSERT INTO process VALUES(91827364503, 5);\n",
    "INSERT INTO process VALUES(91827364503, 6);\n",
    "INSERT INTO process VALUES(10243347562, 7);\n",
    "INSERT INTO process VALUES(10243347562, 8);\n",
    "INSERT INTO process VALUES(10243347562, 9);\n",
    "\n",
    "INSERT INTO pay VALUES(2, 3);\n",
    "INSERT INTO pay VALUES(4, 3);\n",
    "INSERT INTO pay VALUES(5, 2);\n",
    "INSERT INTO pay VALUES(8, 2);\n",
    "\n",
    "INSERT INTO contains VALUES(1, 'TS123456', 16);\n",
    "INSERT INTO contains VALUES(1, 'KA17120203', 3);\n",
    "INSERT INTO contains VALUES(2, 'HM21KMPW', 1);\n",
    "INSERT INTO contains VALUES(2, 'X00299X9JF', 3);\n",
    "INSERT INTO contains VALUES(3, 'KS93528TUT', 1);\n",
    "INSERT INTO contains VALUES(3, 'KA17120203', 1);\n",
    "INSERT INTO contains VALUES(4, 'KA17120203', 40);\n",
    "INSERT INTO contains VALUES(5, 'HM21KMPW', 2);\n",
    "INSERT INTO contains VALUES(5, 'KS944RUR', 2);\n",
    "INSERT INTO contains VALUES(6, 'KS944RUR', 1);\n",
    "INSERT INTO contains VALUES(7, 'TS123456', 2);\n",
    "INSERT INTO contains VALUES(7, 'KA17120203', 1);\n",
    "INSERT INTO contains VALUES(7, 'KS93528TUT', 1);\n",
    "INSERT INTO contains VALUES(8, 'HM21KMPW', 2);\n",
    "INSERT INTO contains VALUES(9, 'X00299X9JF', 5);\n",
    "\n",
    "INSERT INTO delivery VALUES('Avenida Lago 23, 2765-099 Cascais', '122365939');\n",
    "INSERT INTO delivery VALUES('Avenida Lago 23, 2765-099 Cascais', '135238432');\n",
    "INSERT INTO delivery VALUES('Avenida Lago 23, 2765-099 Cascais', '159438584');\n",
    "INSERT INTO delivery VALUES('Rua Pé Mouro Armz 108, 2735-542 Sintra', '154294955');\n",
    "INSERT INTO delivery VALUES('Rua Pé Mouro Armz 108, 2735-542 Sintra', '165439089');\n",
    "INSERT INTO delivery VALUES('Rua Pé Mouro Armz 108, 2735-542 Sintra', '194355853');"
   ]
  },
  {
   "cell_type": "markdown",
   "id": "9772880f-58f0-46c8-9670-737390210bb4",
   "metadata": {
    "tags": []
   },
   "source": [
    "## 1. Restrições de Integridade\n",
    "\n",
    "Apresente o código para implementar as seguintes restrições de integridade, se necessário, com recurso a extensões procedimentais SQL (Stored Procedures e Triggers):"
   ]
  },
  {
   "cell_type": "markdown",
   "id": "a0a92dd6-9093-4f4e-addf-591d83c466b3",
   "metadata": {},
   "source": [
    "(RI-1) Nenhum empregado pode ter menos de 18 anos de idade"
   ]
  },
  {
   "cell_type": "code",
   "execution_count": null,
   "id": "c422052c-0463-46ae-9be1-b6f6ed19d2b9",
   "metadata": {
    "tags": []
   },
   "outputs": [],
   "source": [
    "%%sql\n",
    "-- (RI-1)\n",
    "\n",
    "CREATE OR REPLACE FUNCTION underage_employee_func() RETURNS TRIGGER AS\n",
    "$$\n",
    "BEGIN\n",
    "    IF AGE(NEW.bdate) < interval '18 years' THEN\n",
    "        RAISE EXCEPTION 'O empregado com SSN % não é maior de idade.',\n",
    "            NEW.ssn;\n",
    "    END IF;\n",
    "    RETURN NEW;\n",
    "END\n",
    "$$ LANGUAGE plpgsql;\n",
    "\n",
    "DROP TRIGGER IF EXISTS underage_employee ON employee;\n",
    "\n",
    "CREATE CONSTRAINT TRIGGER underage_employee AFTER INSERT OR UPDATE ON employee\n",
    "    FOR EACH ROW EXECUTE FUNCTION underage_employee_func();\n",
    "    \n"
   ]
  },
  {
   "cell_type": "code",
   "execution_count": null,
   "id": "5605001d-226d-4d18-85df-df93861acf4e",
   "metadata": {
    "tags": []
   },
   "outputs": [],
   "source": [
    "%%sql\n",
    "\n",
    "ALTER TABLE employee ADD CHECK (AGE(bdate) >= interval '18 years');"
   ]
  },
  {
   "cell_type": "code",
   "execution_count": null,
   "id": "b7a75a37-2fdc-4edf-aebc-1da6dcc2960e",
   "metadata": {
    "tags": []
   },
   "outputs": [],
   "source": [
    "%%sql\n",
    "\n",
    "INSERT INTO employee VALUES (1029384356, 201528376, '2020-06-15', 'João');"
   ]
  },
  {
   "cell_type": "markdown",
   "id": "e99193b5-fd48-4601-a226-34432074af53",
   "metadata": {},
   "source": [
    "(RI-2) Um 'Workplace' é obrigatoriamente um 'Office' ou 'Warehouse' mas não pode ser ambos"
   ]
  },
  {
   "cell_type": "code",
   "execution_count": null,
   "id": "188ec396-6e55-4fd3-b436-dcafe454f677",
   "metadata": {
    "tags": []
   },
   "outputs": [],
   "source": [
    "%%sql\n",
    "-- (RI-2)\n",
    "\n",
    "CREATE OR REPLACE FUNCTION workplace_type_func() RETURNS TRIGGER AS\n",
    "$$\n",
    "DECLARE in_warehouses VARCHAR;\n",
    "DECLARE in_offices VARCHAR;\n",
    "BEGIN\n",
    "    SELECT address INTO in_warehouses FROM warehouse WHERE address=NEW.address;\n",
    "    SELECT address INTO in_offices FROM office WHERE address=NEW.address;\n",
    "    \n",
    "    IF (in_warehouses IS NULL) AND (in_offices IS NULL) THEN\n",
    "        RAISE EXCEPTION 'O workplace %s tem de ser office ou warehouse', NEW.address;\n",
    "    END IF;\n",
    "    \n",
    "    IF (in_warehouses IS NOT NULL) AND (in_offices IS NOT NULL) THEN\n",
    "        RAISE EXCEPTION 'O workplace %s não pode ser office e warehouse ao mesmo tempo', NEW.address;\n",
    "    END IF;\n",
    "        \n",
    "    RETURN NEW;\n",
    "END\n",
    "$$ LANGUAGE plpgsql;\n",
    "\n",
    "DROP TRIGGER IF EXISTS workplace_type ON workplace;\n",
    "\n",
    "CREATE CONSTRAINT TRIGGER workplace_type AFTER INSERT OR UPDATE ON workplace DEFERRABLE INITIALLY DEFERRED\n",
    "    FOR EACH ROW EXECUTE FUNCTION workplace_type_func();"
   ]
  },
  {
   "cell_type": "markdown",
   "id": "7e659751-bbd0-475a-b36e-8d40d7d58a54",
   "metadata": {},
   "source": [
    "(RI-3) Uma 'Order' tem de figurar obrigatoriamente em 'Contains'."
   ]
  },
  {
   "cell_type": "code",
   "execution_count": null,
   "id": "f2993b94-77a8-4b09-b522-f39021c55131",
   "metadata": {
    "tags": []
   },
   "outputs": [],
   "source": [
    "%%sql\n",
    "-- (RI-3)\n",
    "\n",
    "CREATE OR REPLACE FUNCTION order_contains_func() RETURNS TRIGGER AS\n",
    "$$\n",
    "DECLARE in_contains INTEGER;\n",
    "BEGIN\n",
    "    SELECT DISTINCT order_no INTO in_contains FROM contains WHERE order_no=NEW.order_no;\n",
    "    \n",
    "    IF (in_contains IS NULL) THEN\n",
    "        RAISE EXCEPTION 'A order % precisa de conter pelo menos um produto', NEW.order_no;\n",
    "    END IF;\n",
    "        \n",
    "    RETURN NEW;\n",
    "END\n",
    "$$ LANGUAGE plpgsql;\n",
    "\n",
    "DROP TRIGGER IF EXISTS order_contains ON orders;\n",
    "\n",
    "CREATE CONSTRAINT TRIGGER order_contains AFTER INSERT OR UPDATE ON orders DEFERRABLE INITIALLY DEFERRED\n",
    "    FOR EACH ROW EXECUTE FUNCTION order_contains_func();"
   ]
  },
  {
   "cell_type": "code",
   "execution_count": null,
   "id": "53b85314-d825-404e-ae25-f6b0e458b1e8",
   "metadata": {
    "tags": []
   },
   "outputs": [],
   "source": [
    "%%sql\n",
    "\n",
    "INSERT INTO orders VALUES (13, 1, '2023-05-20');"
   ]
  },
  {
   "cell_type": "markdown",
   "id": "37637f46-470f-431a-9833-4d8665176450",
   "metadata": {
    "tags": []
   },
   "source": [
    "## 2. Consultas SQL"
   ]
  },
  {
   "cell_type": "markdown",
   "id": "f861ee47-e72b-4633-8dac-b4728ed852b9",
   "metadata": {},
   "source": [
    "Apresente a consulta SQL mais sucinta para cada uma das seguintes questões"
   ]
  },
  {
   "cell_type": "markdown",
   "id": "fd2e1654-059e-4ef5-a63d-5e81280baab0",
   "metadata": {
    "tags": []
   },
   "source": [
    "1) Qual o número e nome do(s) cliente(s) com maior valor total de encomendas pagas?  "
   ]
  },
  {
   "cell_type": "code",
   "execution_count": null,
   "id": "5b79ced0-279d-4e04-921e-0c831d7a79f2",
   "metadata": {
    "tags": []
   },
   "outputs": [],
   "source": [
    "%%sql\n",
    "\n",
    "WITH q AS (\n",
    "    SELECT\n",
    "        cust_no,\n",
    "        c.name cust_name,\n",
    "        qty,\n",
    "        price\n",
    "    FROM\n",
    "        customer c\n",
    "    NATURAL JOIN\n",
    "        pay\n",
    "    NATURAL JOIN\n",
    "        orders\n",
    "    NATURAL JOIN\n",
    "        contains\n",
    "    INNER JOIN\n",
    "        product USING (sku)\n",
    ")\n",
    "SELECT\n",
    "    cust_no,\n",
    "    cust_name\n",
    "FROM\n",
    "    q\n",
    "GROUP BY\n",
    "    cust_no, cust_name\n",
    "HAVING\n",
    "    sum(qty*price) >= ALL(\n",
    "        SELECT\n",
    "            sum(qty*price)\n",
    "        FROM\n",
    "            q\n",
    "        GROUP BY\n",
    "            cust_no\n",
    "    );\n",
    "    "
   ]
  },
  {
   "cell_type": "markdown",
   "id": "4f863499-c40e-428c-85e8-d2741362906d",
   "metadata": {},
   "source": [
    "2. Qual o nome dos empregados que processaram encomendas em todos os dias de 2022 em que houve encomendas?"
   ]
  },
  {
   "cell_type": "code",
   "execution_count": null,
   "id": "aadac5e9-d0e4-46e0-bab5-33d00b863884",
   "metadata": {
    "tags": []
   },
   "outputs": [],
   "source": [
    "%%sql\n",
    "\n",
    "SELECT\n",
    "    e.name\n",
    "FROM\n",
    "    employee e\n",
    "WHERE\n",
    "    NOT EXISTS (\n",
    "        SELECT\n",
    "            date\n",
    "        FROM\n",
    "            orders\n",
    "        WHERE\n",
    "            EXTRACT(YEAR FROM date) = '2022'\n",
    "        EXCEPT\n",
    "        SELECT\n",
    "            date\n",
    "        FROM\n",
    "            employee\n",
    "        NATURAL JOIN\n",
    "            process\n",
    "        NATURAL JOIN\n",
    "            orders\n",
    "        WHERE\n",
    "            ssn = e.ssn\n",
    "    );"
   ]
  },
  {
   "cell_type": "markdown",
   "id": "e871bc9e-60c4-465b-a727-9ff2d2115d0b",
   "metadata": {},
   "source": [
    "3. Quantas encomendas foram realizadas mas não pagas em cada mês de 2022?"
   ]
  },
  {
   "cell_type": "code",
   "execution_count": null,
   "id": "9376e89f-ff69-418d-a143-0cfb792b13d5",
   "metadata": {
    "tags": []
   },
   "outputs": [],
   "source": [
    "%%sql\n",
    "\n",
    "SELECT\n",
    "   to_char(to_date(CONCAT('01-', generate_series, '-2000'), 'DD-MM-YYYY'), 'Month') as month,\n",
    "   count(date)\n",
    "FROM\n",
    "    generate_series(1, 12)\n",
    "LEFT JOIN\n",
    "    (SELECT\n",
    "         order_no,\n",
    "         date\n",
    "     FROM\n",
    "         orders\n",
    "     WHERE\n",
    "         order_no NOT IN (\n",
    "            SELECT\n",
    "                 order_no\n",
    "            FROM\n",
    "                 pay)\n",
    "             AND\n",
    "             EXTRACT(YEAR FROM date) = '2022') o\n",
    "    ON (generate_series = EXTRACT(MONTH FROM o.date))\n",
    "GROUP BY generate_series;"
   ]
  },
  {
   "cell_type": "markdown",
   "id": "97f45cec-fe42-418a-b85d-c9e51807a42c",
   "metadata": {},
   "source": [
    "## 3. Vistas"
   ]
  },
  {
   "cell_type": "markdown",
   "id": "03062b56-40fa-41c0-aac9-3e77b9049c27",
   "metadata": {},
   "source": [
    "Crie uma vista que resuma as informações mais importantes sobre as vendas de produtos, combinando informações de diferentes tabelas do esquema de base de dados. A vista deve ter o seguinte esquema:\n",
    "\n",
    "product_sales(sku, order_no, qty, total_price, year, month, day_of_month, day_of_week, city)"
   ]
  },
  {
   "cell_type": "code",
   "execution_count": null,
   "id": "0bbb2226-5de4-4051-b4c0-9130bd4904f5",
   "metadata": {
    "tags": []
   },
   "outputs": [],
   "source": [
    "%%sql\n",
    "\n",
    "DROP VIEW IF EXISTS product_sales;\n",
    "\n",
    "CREATE OR REPLACE VIEW product_sales\n",
    "AS\n",
    "    SELECT\n",
    "        c.sku,\n",
    "        c.order_no,\n",
    "        qty,\n",
    "        qty*price total_price,\n",
    "        EXTRACT(YEAR FROM date) years,\n",
    "        EXTRACT(MONTH FROM date) months,\n",
    "        EXTRACT(DAY FROM date) day_of_month,\n",
    "        to_char(date, 'Day') day_of_week,\n",
    "        SUBSTRING(address, '\\d ([a-zA-Z ]*)$') city\n",
    "    FROM\n",
    "        customer\n",
    "    NATURAL JOIN\n",
    "        pay\n",
    "    NATURAL JOIN\n",
    "        orders\n",
    "    NATURAL JOIN\n",
    "        contains c\n",
    "    INNER JOIN\n",
    "        product USING (sku);"
   ]
  },
  {
   "cell_type": "code",
   "execution_count": null,
   "id": "49f26b8c-fd2c-4c43-bbd6-2b18e4a31dce",
   "metadata": {
    "tags": []
   },
   "outputs": [],
   "source": [
    "%%sql\n",
    "\n",
    "SELECT * FROM product_sales;"
   ]
  },
  {
   "cell_type": "markdown",
   "id": "6b615865-602f-4974-9de1-27d0060362ef",
   "metadata": {
    "tags": []
   },
   "source": [
    "## 4. Desenvolvimento de Aplicação"
   ]
  },
  {
   "cell_type": "markdown",
   "id": "0bad635d-f5c2-449f-97b0-90d10a4d482b",
   "metadata": {},
   "source": [
    "### Explicação da arquitetura da aplicação web, incluindo um link para uma versão de trabalho e as relações entre os vários ficheiros na pasta web/arquivos\n",
    "\n",
    "..."
   ]
  },
  {
   "cell_type": "markdown",
   "id": "5dff0f43-90cc-4ab5-b874-c3fb24776728",
   "metadata": {},
   "source": [
    "## 5. Consultas OLAP"
   ]
  },
  {
   "cell_type": "markdown",
   "id": "5c8c25ed-b858-4daf-a291-b59e489c0a44",
   "metadata": {},
   "source": [
    "Usando a vista desenvolvida para a Questão 3, escreva duas consultas SQL que permitam analisar:"
   ]
  },
  {
   "cell_type": "markdown",
   "id": "bd8d173c-e72f-4e89-8949-e2df3b7b07a3",
   "metadata": {},
   "source": [
    "1. As quantidade e valores totais de venda de cada produto em 2022, globalmente, por cidade, por mês, dia do mês e dia da semana"
   ]
  },
  {
   "cell_type": "code",
   "execution_count": null,
   "id": "bf12ce01-15c0-4e7c-b329-576dd344ebf6",
   "metadata": {
    "tags": []
   },
   "outputs": [],
   "source": [
    "%%sql\n",
    "-- SELECT ..."
   ]
  },
  {
   "cell_type": "markdown",
   "id": "a6f88296-429c-4c1c-9a7a-5cbe9cb65920",
   "metadata": {},
   "source": [
    "2. O valor médio diário das vendas de todos os produtos em 2022, globalmente, por mês e dia da semana"
   ]
  },
  {
   "cell_type": "code",
   "execution_count": null,
   "id": "7aac0901-02ad-4a40-964e-dc03430f8e77",
   "metadata": {
    "tags": []
   },
   "outputs": [],
   "source": [
    "%%sql\n",
    "-- SELECT ..."
   ]
  },
  {
   "cell_type": "markdown",
   "id": "5a75300b-51d0-4512-8b50-ffac98d66070",
   "metadata": {
    "tags": []
   },
   "source": [
    "## 6. Índices"
   ]
  },
  {
   "cell_type": "markdown",
   "id": "35f160cc-30e9-4381-9b3e-0d78ef421af8",
   "metadata": {
    "tags": []
   },
   "source": [
    "Indique, com a devida justificação, que tipo de índice(s), sobre qual(is) atributo(s) e sobre qual(is) tabela(s) faria sentido criar, de forma a agilizar a execução de cada uma das seguintes consultas: "
   ]
  },
  {
   "cell_type": "markdown",
   "id": "6e6e7eb2-c8ba-4d93-a31b-a2384d538fc0",
   "metadata": {},
   "source": [
    "### 6.1\n",
    "SELECT order_no\n",
    "FROM orders \n",
    "JOIN contains USING (order_no) \n",
    "JOIN product USING (SKU) \n",
    "WHERE price > 50 AND \n",
    "EXTRACT(YEAR FROM date) = 2023"
   ]
  },
  {
   "cell_type": "code",
   "execution_count": null,
   "id": "eee442d4-8f78-4493-a320-74a4a8de0721",
   "metadata": {
    "tags": []
   },
   "outputs": [],
   "source": [
    "%%sql\n",
    "\n",
    "DROP INDEX IF EXISTS orders_year_idx;\n",
    "\n",
    "CREATE INDEX orders_year_idx ON orders USING hash (EXTRACT(YEAR FROM date));\n",
    "\n",
    "DROP INDEX IF EXISTS product_price_idx;\n",
    "\n",
    "CREATE INDEX product_price_idx ON product (price);"
   ]
  },
  {
   "cell_type": "markdown",
   "id": "b12768c7-efcc-4550-a7c1-7f8bbafd6409",
   "metadata": {},
   "source": [
    "### Tipo de Índice, Atributos & Justificação\n",
    "\n",
    "..."
   ]
  },
  {
   "cell_type": "markdown",
   "id": "89f6cb2b-8425-42f8-810c-9c9e5797b686",
   "metadata": {},
   "source": [
    "### 6.2\n",
    "SELECT order_no, SUM(qty*price)\n",
    "FROM contains \n",
    "JOIN product USING (SKU) \n",
    "WHERE name LIKE ‘A%’ \n",
    "GROUP BY order_no;"
   ]
  },
  {
   "cell_type": "markdown",
   "id": "1af12988-e1f5-4a72-835d-9aba30d0ce88",
   "metadata": {},
   "source": [
    "### Tipo de Índice, Atributos & Justificação\n",
    "\n",
    "..."
   ]
  }
 ],
 "metadata": {
  "kernelspec": {
   "display_name": "Python 3 (ipykernel)",
   "language": "python",
   "name": "python3"
  },
  "language_info": {
   "codemirror_mode": {
    "name": "ipython",
    "version": 3
   },
   "file_extension": ".py",
   "mimetype": "text/x-python",
   "name": "python",
   "nbconvert_exporter": "python",
   "pygments_lexer": "ipython3",
   "version": "3.10.11"
  }
 },
 "nbformat": 4,
 "nbformat_minor": 5
}
